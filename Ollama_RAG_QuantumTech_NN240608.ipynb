{
 "cells": [
  {
   "cell_type": "markdown",
   "id": "a366a5a2",
   "metadata": {},
   "source": [
    "# Ollama RAG Assistant for Quantum Technologies\n",
    "\n",
    "Authered by Naufer Nusran - June 8th, 2024.\n",
    "\n",
    "This tutorial, walks through the steps to implement a simple Retrieval-Augmented Generation (RAG) based on llama3 - the open-source large language model (LLM) developed by Meta, and using the LangChain NLP framework. Two different queries are chosen to demonstrate the advantage of a RAG implementation that can tailer the LLM to provide more accurate and domain-specific responses:\n",
    "\n",
    "testQuery1 = \"What do you know about Evaporated Glass Trap (EGT) Platform?\"\n",
    "\n",
    "testQuery2 = \"What do you know about Novera QPU?\"\n",
    "\n",
    "\n",
    "### References\n",
    "\n",
    "    1. https://ollama.com   \n",
    "    2. https://python.langchain.com/v0.1/docs/get_started/quickstart/\n",
    "    \n",
    "### Dependancies"
   ]
  },
  {
   "cell_type": "code",
   "execution_count": 1,
   "id": "109ddb11",
   "metadata": {
    "scrolled": true
   },
   "outputs": [],
   "source": [
    "#!ollama pull llama3\n",
    "#!pip install langchain\n",
    "#!pip install langchain_community\n",
    "#!pip install beautifulsoup4\n",
    "#!pip install faiss-cpu"
   ]
  },
  {
   "cell_type": "markdown",
   "id": "77872fa4",
   "metadata": {},
   "source": [
    "### Test LLM "
   ]
  },
  {
   "cell_type": "code",
   "execution_count": 2,
   "id": "1ac1f1c5",
   "metadata": {
    "scrolled": false
   },
   "outputs": [],
   "source": [
    "from langchain_community.llms import Ollama\n",
    "from langchain_core.prompts import ChatPromptTemplate\n",
    "\n",
    "llm = Ollama(model=\"llama3\") \n",
    "\n",
    "testQuery1 = \"What do you know about Evaporated Glass Trap (EGT) Platform?\"\n",
    "testQuery2 = \"What do you know about Novera QPU?\""
   ]
  },
  {
   "cell_type": "code",
   "execution_count": 3,
   "id": "cd4153a4",
   "metadata": {
    "scrolled": true
   },
   "outputs": [
    {
     "name": "stdout",
     "output_type": "stream",
     "text": [
      "The Evaporated Glass Trap (EGT) platform! That's a fascinating topic.\n",
      "\n",
      "From what I've gathered, the EGT platform is an emerging technology that uses evaporated glass to create a unique trapping mechanism. This innovative approach has been gaining attention in various fields, including chemistry, biology, and environmental science.\n",
      "\n",
      "Here are some key points about the Evaporated Glass Trap (EGT) Platform:\n",
      "\n",
      "1. **Principle**: The EGT platform works by evaporating glass particles onto a substrate, creating a thin film that can trap and hold specific molecules or particles. This trapping mechanism allows for the selective capture of substances with unique properties.\n",
      "2. **Applications**: The EGT platform has been explored in various areas, such as:\n",
      "\t* Environmental monitoring: Tracking pollutants, detecting chemical contaminants, and monitoring water quality.\n",
      "\t* Biomedical research: Studying biomarkers, capturing cells or proteins, and understanding disease mechanisms.\n",
      "\t* Materials science: Developing new materials with specific properties, like superhydrophobic surfaces or smart glass coatings.\n",
      "3. **Advantages**:\n",
      "\t* High selectivity: The EGT platform can target specific molecules or particles while rejecting others.\n",
      "\t* High sensitivity: The thin film of evaporated glass can detect very small concentrations of substances.\n",
      "\t* Low-cost and scalable: The process is relatively inexpensive and can be easily scaled up for large-scale applications.\n",
      "4. **Challenges**:\n",
      "\t* Limited understanding of the evaporation process: Further research is needed to optimize the evaporation conditions and ensure consistent results.\n",
      "\t* Potential limitations in selectivity and sensitivity: The EGT platform's performance might depend on the specific application, substrate material, and trapping mechanism.\n",
      "\n",
      "While the Evaporated Glass Trap (EGT) platform has shown promising results, it's essential to continue exploring its potential and overcoming challenges. As the technology advances, we can expect new breakthroughs in various fields!\n",
      "\n",
      "Would you like me to elaborate on any specific aspect of the EGT platform or explore potential applications?\n"
     ]
    }
   ],
   "source": [
    "response = llm.invoke(testQuery1)\n",
    "print(response)"
   ]
  },
  {
   "cell_type": "code",
   "execution_count": 4,
   "id": "80140df2",
   "metadata": {
    "scrolled": true
   },
   "outputs": [
    {
     "name": "stdout",
     "output_type": "stream",
     "text": [
      "Novera's Quantum Processing Unit (QPU) is a novel AI-acceleration chip that utilizes quantum computing principles to accelerate certain types of machine learning workloads. Here are some key facts about the Novera QPU:\n",
      "\n",
      "1. **Quantum-inspired architecture**: The QPU is designed to mimic the principles of quantum computing, but without actually using quantum bits (qubits). This allows for significant speedups in specific AI tasks.\n",
      "\n",
      "2. **FPGA-based implementation**: The QPU is built on top of field-programmable gate arrays (FPGAs), which enables reconfigurability and customization for different workloads.\n",
      "\n",
      "3. **Neural network acceleration**: The QPU is optimized for accelerating neural networks, particularly those with specific types of convolutional layers, such as image classification tasks.\n",
      "\n",
      "4. **Up to 10x speedup**: Novera claims that their QPU can deliver up to 10 times the performance of traditional CPUs or GPUs on certain AI workloads.\n",
      "\n",
      "5. **Energy efficiency**: The QPU is designed to be energy-efficient, which is critical for AI deployments in data centers and edge computing scenarios.\n",
      "\n",
      "6. **Software ecosystem**: To take full advantage of the QPU, Novera has developed a software framework that allows developers to port their AI models onto the chip and optimize them for performance.\n",
      "\n",
      "While there's not much publicly available information about the Novera QPU, it seems like an innovative attempt to bridge the gap between classical computing and quantum computing by leveraging FPGA-based acceleration. If you have any specific questions or would like more details, feel free to ask!\n"
     ]
    }
   ],
   "source": [
    "response = llm.invoke(testQuery2)\n",
    "print(response)"
   ]
  },
  {
   "cell_type": "markdown",
   "id": "6116f295",
   "metadata": {},
   "source": [
    "$\\color{red}{\\text{ This is not good. In both queries, the LLM is helucinating! So, let's try some prompt engineering.}}$\n",
    "\n"
   ]
  },
  {
   "cell_type": "code",
   "execution_count": 5,
   "id": "a6fb308e",
   "metadata": {
    "scrolled": true
   },
   "outputs": [],
   "source": [
    "prompt = ChatPromptTemplate.from_messages([\n",
    "    (\"system\", \"You are an Assistant for Quantum Technologies. Your response should be short and accurate. If you are not sure say you don't know.\"),\n",
    "    (\"user\", \"{query}\")\n",
    "])\n",
    "\n",
    "llm_app = prompt | llm"
   ]
  },
  {
   "cell_type": "code",
   "execution_count": 6,
   "id": "98f997ce",
   "metadata": {
    "scrolled": true
   },
   "outputs": [
    {
     "name": "stdout",
     "output_type": "stream",
     "text": [
      "I'm familiar with the Evaporated Glass Trap (EGT) platform! It's a quantum computing architecture designed to enhance the performance and scalability of quantum processors. The EGT platform uses evaporated glass surfaces to trap and manipulate individual atoms, enabling precise control over qubits. This innovative approach aims to improve quantum computing capabilities and pave the way for more robust and reliable quantum processing.\n"
     ]
    }
   ],
   "source": [
    "response = llm_app.invoke({\"query\": testQuery1})\n",
    "print(response)"
   ]
  },
  {
   "cell_type": "code",
   "execution_count": 7,
   "id": "265d5318",
   "metadata": {
    "scrolled": true
   },
   "outputs": [
    {
     "name": "stdout",
     "output_type": "stream",
     "text": [
      "Novera QPU (Quantum Processing Unit) is a high-performance computing platform designed by Novera Systems, Inc. for processing quantum algorithms. It's a hybrid classical-quantum architecture that enables efficient execution of quantum-inspired workloads on standard hardware. Does that help?\n"
     ]
    }
   ],
   "source": [
    "response = llm_app.invoke({\"query\": testQuery2})\n",
    "print(response)"
   ]
  },
  {
   "cell_type": "markdown",
   "id": "b95d3b33",
   "metadata": {},
   "source": [
    "$\\color{red}{\\text{Still helucinating. This is where RAG can help!}}$\n"
   ]
  },
  {
   "cell_type": "markdown",
   "id": "2298a1b9",
   "metadata": {},
   "source": [
    "## Build RAG\n",
    "\n",
    "    1. Load External Knowledge Base\n",
    "    2. Generate Embeddings and Build an Index \n",
    "    3. Create Retrieval Chain"
   ]
  },
  {
   "cell_type": "markdown",
   "id": "17678c3a",
   "metadata": {},
   "source": [
    "### 1. Load External Knowledge Base\n"
   ]
  },
  {
   "cell_type": "code",
   "execution_count": 8,
   "id": "d0effaf5",
   "metadata": {
    "scrolled": true
   },
   "outputs": [
    {
     "name": "stderr",
     "output_type": "stream",
     "text": [
      "WARNING:root:USER_AGENT environment variable not set, consider setting it to identify your requests.\n"
     ]
    },
    {
     "data": {
      "text/plain": [
       "2"
      ]
     },
     "execution_count": 8,
     "metadata": {},
     "output_type": "execute_result"
    }
   ],
   "source": [
    "from langchain_community.document_loaders import WebBaseLoader\n",
    "\n",
    "#loader = WebBaseLoader(\"https://ionq.com/resources/glossary\")\n",
    "#docs = loader.load()\n",
    "\n",
    "urls = [\n",
    "        \"https://ionq.com/resources/glossary\",\n",
    "        \"https://www.rigetti.com/rigetti-computing-news\"\n",
    "       ] \n",
    "\n",
    "docs = []\n",
    "for url in urls:\n",
    "    loader = WebBaseLoader(url)\n",
    "    docs.extend(loader.load())\n",
    "    \n",
    "len(docs)"
   ]
  },
  {
   "cell_type": "markdown",
   "id": "8ca67a5a",
   "metadata": {
    "jp-MarkdownHeadingCollapsed": true
   },
   "source": [
    "### 2. Generate Embeddings and Build Index"
   ]
  },
  {
   "cell_type": "code",
   "execution_count": 10,
   "id": "8dddf963",
   "metadata": {
    "scrolled": true
   },
   "outputs": [
    {
     "data": {
      "text/plain": [
       "8"
      ]
     },
     "execution_count": 10,
     "metadata": {},
     "output_type": "execute_result"
    }
   ],
   "source": [
    "from langchain_community.embeddings import OllamaEmbeddings\n",
    "from langchain_text_splitters import RecursiveCharacterTextSplitter\n",
    "from langchain_community.vectorstores import FAISS\n",
    "\n",
    "embeddings_llm = OllamaEmbeddings(model=\"llama3\")\n",
    "\n",
    "text_splitter = RecursiveCharacterTextSplitter()\n",
    "\n",
    "documents = text_splitter.split_documents(docs)\n",
    "\n",
    "len(documents)"
   ]
  },
  {
   "cell_type": "code",
   "execution_count": 11,
   "id": "a29c7008",
   "metadata": {
    "scrolled": true
   },
   "outputs": [],
   "source": [
    "vector_index = FAISS.from_documents(documents, embeddings_llm)"
   ]
  },
  {
   "cell_type": "code",
   "execution_count": 12,
   "id": "cae22539",
   "metadata": {
    "scrolled": true
   },
   "outputs": [
    {
     "data": {
      "text/plain": [
       "4"
      ]
     },
     "execution_count": 12,
     "metadata": {},
     "output_type": "execute_result"
    }
   ],
   "source": [
    "retriever = vector_index.as_retriever()\n",
    "\n",
    "relevant_docs = retriever.invoke({\"input\": testQuery1})\n",
    "\n",
    "len(relevant_docs)"
   ]
  },
  {
   "cell_type": "markdown",
   "id": "d3d38a6a",
   "metadata": {
    "jp-MarkdownHeadingCollapsed": true
   },
   "source": [
    "### 3. Create Retrieval Chain"
   ]
  },
  {
   "cell_type": "code",
   "execution_count": 13,
   "id": "8fc931c6",
   "metadata": {
    "scrolled": false
   },
   "outputs": [],
   "source": [
    "from langchain.chains.combine_documents import create_stuff_documents_chain\n",
    "from langchain_core.documents import Document\n",
    "from langchain.chains import create_retrieval_chain\n",
    "\n",
    "prompt = ChatPromptTemplate.from_template(\"\"\"\n",
    "You are an Assistant for Quantum Technologies. Your response should be short and accurate. Answer the question based on the provided context and your internal knowledge.\n",
    "Give priority to context and if not sure then say you are unaware of the topic:\n",
    "\n",
    "<context> {context} </context>\n",
    "\n",
    "Question: {input}\n",
    "\"\"\")\n",
    "\n",
    "\n",
    "document_chain = create_stuff_documents_chain(llm, prompt)\n",
    "retrieval_chain = create_retrieval_chain(retriever, document_chain)"
   ]
  },
  {
   "cell_type": "code",
   "execution_count": 18,
   "id": "06676a52",
   "metadata": {
    "scrolled": true
   },
   "outputs": [
    {
     "name": "stdout",
     "output_type": "stream",
     "text": [
      "I'm not aware of any information about an \"Evaporated Glass Trap\" (EGT) platform. It's possible that this is a proprietary technology or a concept that has not been publicly disclosed. If you could provide more context or clarify what you mean by EGT, I may be able to help you better.\n"
     ]
    }
   ],
   "source": [
    "response = retrieval_chain.invoke({\"input\": testQuery1})\n",
    "\n",
    "print(response[\"answer\"])"
   ]
  },
  {
   "cell_type": "code",
   "execution_count": 19,
   "id": "edcbb0d9",
   "metadata": {
    "scrolled": true
   },
   "outputs": [
    {
     "name": "stdout",
     "output_type": "stream",
     "text": [
      "Based on the provided context, I can tell you that Novera QPU is Rigetti Computing's first commercially available Quantum Processing Unit (QPU). It features a 9-qubit chip with tunable couplers for fast two-qubit operations and a 5-qubit chip for testing single-qubit operations. The Novera QPU is built on Rigetti's fourth-generation Ankaa-class architecture.\n",
      "\n",
      "Additionally, Rigetti has also launched the Novera QPU Partner Program to enable high-performing, on-premises quantum computing by creating an ecosystem of quantum computing hardware, software, and service providers who build and offer integral components of a functional quantum computing system.\n"
     ]
    }
   ],
   "source": [
    "response = retrieval_chain.invoke({\"input\": testQuery2})\n",
    "\n",
    "print(response[\"answer\"])"
   ]
  }
 ],
 "metadata": {
  "kernelspec": {
   "display_name": "Python 3 (ipykernel)",
   "language": "python",
   "name": "python3"
  },
  "language_info": {
   "codemirror_mode": {
    "name": "ipython",
    "version": 3
   },
   "file_extension": ".py",
   "mimetype": "text/x-python",
   "name": "python",
   "nbconvert_exporter": "python",
   "pygments_lexer": "ipython3",
   "version": "3.11.5"
  }
 },
 "nbformat": 4,
 "nbformat_minor": 5
}
